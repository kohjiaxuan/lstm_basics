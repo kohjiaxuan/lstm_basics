{
 "cells": [
  {
   "cell_type": "code",
   "execution_count": 1,
   "metadata": {},
   "outputs": [],
   "source": [
    "import tensorflow as tf\n",
    "from tensorflow.keras.models import Sequential\n",
    "from tensorflow.keras.layers import Dense, Dropout, LSTM\n",
    "# Only if have GPU enabled tensorflow\n",
    "# from tensorflow.keras.layers import CuDNNLSTM"
   ]
  },
  {
   "cell_type": "code",
   "execution_count": 2,
   "metadata": {},
   "outputs": [],
   "source": [
    "import matplotlib.pyplot as plt\n",
    "import numpy as np"
   ]
  },
  {
   "cell_type": "markdown",
   "metadata": {},
   "source": [
    "# Tips for normalizing data\n",
    "1. Very important to normalize data for NN\n",
    "2. Divide by 255.0 instead of 255 to create float dataset from uint8, so that decimals are allowed\n",
    "3. Can also use sklearn normalization APIs"
   ]
  },
  {
   "cell_type": "code",
   "execution_count": 3,
   "metadata": {},
   "outputs": [
    {
     "name": "stdout",
     "output_type": "stream",
     "text": [
      "(60000, 28, 28), (60000,), (10000, 28, 28), (10000,)\n",
      "(28, 28)\n",
      "uint8\n",
      "float64\n"
     ]
    }
   ],
   "source": [
    "mnist = tf.keras.datasets.mnist\n",
    "(x_train, y_train), (x_test, y_test) = mnist.load_data()\n",
    "\n",
    "print(f\"{x_train.shape}, {y_train.shape}, {x_test.shape}, {y_test.shape}\")\n",
    "print(f\"{x_train[0].shape}\")\n",
    "\n",
    "print(x_train.dtype)\n",
    "x_train = x_train/255.0\n",
    "x_test = x_test/255.0\n",
    "print(x_train.dtype)"
   ]
  },
  {
   "cell_type": "markdown",
   "metadata": {},
   "source": [
    "# Using CuDNN optimized versions for faster deep learning training\n",
    "1. If you have CUDA, use CuDNNLASTM instead and don't use activate='relu', will use default of tanh which is optimized\n",
    "\n",
    "# Setting of return_sequences in LSTM\n",
    "1. return_sequences=True returns output as same shape as input. This is useful if feeding into another LSTM which requires shape\n",
    "2. For return_sequences=False, returns output as a flat shape and this is useful for feeding into Dense or final output value\n",
    "\n",
    "# Addition of embedding\n",
    "1. There is also possibly of adding embedding before feeding to LSTM\n",
    "2. This transforms the sparse vector representation of words into a lower dimensional space to represent words more compactly?\n",
    "\n",
    "# Usage of input_shape vs batch_input_shape in Keras\n",
    "1. x_train.shape[1:] turns it from (samples, rows, cols) to (rows, cols) - samples is variable and so is omitted\n",
    "2. input_shape takes shape as (rows, cols, ...), so can just do input_shape=(x_train.shape[1:])\n",
    "3. Notice the tuple required for input_shape or batch_input_shape argument\n",
    "\n",
    "### However, one can also use batch_input_shape=(None, rows, cols, ...)\n",
    "1. None allows number of samples to be flexible\n",
    "2. For LSTM, input_shape=(None, None, 1) or (None, None, col) is also allowed if row size is variable, it will automatically pad 0s at the front or end for you?\n",
    "\n",
    "## Good to write functions for setting up model so that can make many functions for diff models or have one function that generates multiple permutations of models for testing performance\n",
    "1. In a good pipeline, all steps should be modularized into functions and a final function calling a set of functions from data processing, model setup and training, model evaluation, graph plots and illustrations (as required) and finally saving model into a file"
   ]
  },
  {
   "cell_type": "code",
   "execution_count": 4,
   "metadata": {},
   "outputs": [],
   "source": [
    "def setup_model():\n",
    "    model = Sequential()\n",
    "    model.add(LSTM(128, input_shape=(x_train.shape[1:]), activation='relu', return_sequences=True))\n",
    "    model.add(Dropout(0.2))\n",
    "    # Notice inner LSTM don't need to specify shape or return sequence\n",
    "    model.add(LSTM(128, activation='relu'))\n",
    "    model.add(Dropout(0.2))\n",
    "    model.add(Dense(10, activation='softmax'))\n",
    "    \n",
    "    opt = tf.keras.optimizers.Adam(lr=1e-3, decay=1e-5)\n",
    "    model.compile(loss='sparse_categorical_crossentropy', optimizer=opt, metrics=['accuracy'])\n",
    "    return model"
   ]
  },
  {
   "cell_type": "code",
   "execution_count": 5,
   "metadata": {},
   "outputs": [
    {
     "name": "stdout",
     "output_type": "stream",
     "text": [
      "Model: \"sequential\"\n",
      "_________________________________________________________________\n",
      "Layer (type)                 Output Shape              Param #   \n",
      "=================================================================\n",
      "lstm (LSTM)                  (None, 28, 128)           80384     \n",
      "_________________________________________________________________\n",
      "dropout (Dropout)            (None, 28, 128)           0         \n",
      "_________________________________________________________________\n",
      "lstm_1 (LSTM)                (None, 128)               131584    \n",
      "_________________________________________________________________\n",
      "dropout_1 (Dropout)          (None, 128)               0         \n",
      "_________________________________________________________________\n",
      "dense (Dense)                (None, 10)                1290      \n",
      "=================================================================\n",
      "Total params: 213,258\n",
      "Trainable params: 213,258\n",
      "Non-trainable params: 0\n",
      "_________________________________________________________________\n"
     ]
    }
   ],
   "source": [
    "lstm_model = setup_model()\n",
    "# If model summary shows up, means it is successful!\n",
    "lstm_model.summary()"
   ]
  },
  {
   "cell_type": "markdown",
   "metadata": {},
   "source": [
    "# Standard practices of Keras\n",
    "### Model architecture\n",
    "1. Using units of 16 for LSTM output units - 16, 32, 64, 128 ... since image is 64x64, good gauge is double of the larger of row/col which 128\n",
    "2. Dropout of 0.2 works well, but can default to 0 first and try the difference\n",
    "3. Inner layers generally default to relu for better performance and the range is -1 to 1 (allow for negative units and greater variety of features cancelling each other)\n",
    "4. Can also try leaky relu to solve dying relu problem (vanishing gradient problem), but result is not consistent\n",
    "5. Final layer should default to softmax function as it output probability 0-1 (no negative), can try tanh as well\n",
    "6. Final layer dense shape depends on how many probabilities it needs to output. In this case it is predicting digits 0-9, and shape of output is [sample_count, 10], in model it is Dense(10, ...)\n",
    "### Optimizer selection\n",
    "7. Adam optimizer is a very good optimizer to start by default, otherwise can try SGD (gradient descent, stochastic) as well\n",
    "8. Optimizer need not use decay by default, can add it later on as the training progress might be very slow in the experimental training phase (need increase LR) and decay will slow it down further\n",
    "9. If using default adam optimizer, don't need to write opt = tf.keras.optimizers.Adam(lr=1e-3, decay=1e-5) and optimizer=opt\n",
    "10. Decay rate should at least 100 times smaller than the learning rate, unless you are using aggressive learning rate of 0.1 and above\n",
    "11. Just write model.compile(loss='mean_absolute_error', optimizer='adam', metrics=['accuracy']) in one line\n",
    "### Loss functions for understanding model peformance and graph plotting\n",
    "12. Common losses include sparse_categorical_crossentropy (for categorical), mean_squared_error/mse and mean_absolute_error/mae\n",
    "13. Since 0-9 is categorical probabilities with many outcomes, sparse_categorical_crossentropy is commonly used - need to read up more!!\n",
    "14. metrics=['accuracy'] is most commonly used but Keras provides many alternatives as well, you can put multiple metrics inside, e.g. metrics.MeanSquaredError() and metrics.AUC()\n",
    "### Other reminders and useful tips\n",
    "15. Remember to model.compile()! Use model.summary() to see if the model design is correct\n",
    "16. Using a callback function, the metric values will be saved inside a history variable if you write history = model.fit(). Writing history.history will give access to a dictionary with the metrics result for each Epoch to plot a performance graph - e.g. history.history['loss'] and  history.history['valloss'] shows the loss of the model over training and validation set across epochs\n",
    "17. You can create your own callback function to link up to the model while it is training on the cloud, provide as an argument to get the performance results via an API to show somewhere (e.g. an app or through Telegram) for your convenience\n",
    "18. You can also create your own performance function metric to evaluate model performance - https://keras.io/api/callbacks/\n",
    "```\n",
    "my_callbacks = [\n",
    "    tf.keras.callbacks.EarlyStopping(patience=2),\n",
    "    tf.keras.callbacks.ModelCheckpoint(filepath='model.{epoch:02d}-{val_loss:.2f}.h5'),\n",
    "    tf.keras.callbacks.TensorBoard(log_dir='./logs'),\n",
    "]\n",
    "model.fit(dataset, epochs=10, callbacks=my_callbacks)\n",
    "```\n",
    "19. Remember to put validation_data=(x_test, y_test) if you want to see validation loss while training.\n",
    "20. Good number of Epochs vary on the entire dataset size. If dataset is large but highly repetitive (like MNIST that shows just 10 digits), then good to try less epochs (below 5) to see if training loss is falling properly\n",
    "21. Good number of Epochs range from 100-1000 depending on data\n",
    "22. Decrease batch_size from 64/128 to 32 or use Google collab if facing ResourceExhaustedError:  OOM when allocating tensor, and/or close other memory intensive windows like other Python programs, notebooks and Chrome pages\n",
    "23. The higher the batch size the more \"stochastic\" and jumpy the training error, but training might run more quickly"
   ]
  },
  {
   "cell_type": "code",
   "execution_count": 6,
   "metadata": {},
   "outputs": [
    {
     "name": "stdout",
     "output_type": "stream",
     "text": [
      "Epoch 1/20\n",
      "938/938 [==============================] - 104s 111ms/step - loss: 0.5370 - accuracy: 0.8255 - val_loss: 0.1648 - val_accuracy: 0.9471\n",
      "Epoch 2/20\n",
      "938/938 [==============================] - 92s 99ms/step - loss: 0.1399 - accuracy: 0.9578 - val_loss: 0.1203 - val_accuracy: 0.9632\n",
      "Epoch 3/20\n",
      "938/938 [==============================] - 91s 97ms/step - loss: 0.0950 - accuracy: 0.9714 - val_loss: 0.0606 - val_accuracy: 0.9806\n",
      "Epoch 4/20\n",
      "938/938 [==============================] - 93s 99ms/step - loss: 0.0742 - accuracy: 0.9782 - val_loss: 0.0794 - val_accuracy: 0.9759\n",
      "Epoch 5/20\n",
      "938/938 [==============================] - 91s 97ms/step - loss: 0.0645 - accuracy: 0.9809 - val_loss: 0.0617 - val_accuracy: 0.9810\n",
      "Epoch 6/20\n",
      "938/938 [==============================] - 91s 97ms/step - loss: 0.0539 - accuracy: 0.9836 - val_loss: 0.0394 - val_accuracy: 0.9879\n",
      "Epoch 7/20\n",
      "938/938 [==============================] - 91s 97ms/step - loss: 0.0451 - accuracy: 0.9867 - val_loss: 0.0394 - val_accuracy: 0.9874\n",
      "Epoch 8/20\n",
      "938/938 [==============================] - 93s 99ms/step - loss: 0.0409 - accuracy: 0.9876 - val_loss: 0.0491 - val_accuracy: 0.9860\n",
      "Epoch 9/20\n",
      "938/938 [==============================] - 93s 99ms/step - loss: 0.0367 - accuracy: 0.9893 - val_loss: 0.0453 - val_accuracy: 0.9869\n",
      "Epoch 10/20\n",
      "938/938 [==============================] - 113s 120ms/step - loss: 0.0332 - accuracy: 0.9902 - val_loss: 0.0485 - val_accuracy: 0.9842\n",
      "Epoch 11/20\n",
      "938/938 [==============================] - 109s 117ms/step - loss: 0.0308 - accuracy: 0.9908 - val_loss: 0.0368 - val_accuracy: 0.9895\n",
      "Epoch 12/20\n",
      "938/938 [==============================] - 107s 114ms/step - loss: 0.0264 - accuracy: 0.9918 - val_loss: 0.0331 - val_accuracy: 0.9902\n",
      "Epoch 13/20\n",
      "938/938 [==============================] - 107s 114ms/step - loss: 0.0233 - accuracy: 0.9933 - val_loss: 0.0519 - val_accuracy: 0.9857\n",
      "Epoch 14/20\n",
      "938/938 [==============================] - 103s 110ms/step - loss: 0.0210 - accuracy: 0.9934 - val_loss: 0.0336 - val_accuracy: 0.9904\n",
      "Epoch 15/20\n",
      "938/938 [==============================] - 107s 114ms/step - loss: 0.0216 - accuracy: 0.9940 - val_loss: 0.0317 - val_accuracy: 0.9902\n",
      "Epoch 16/20\n",
      "938/938 [==============================] - 128s 137ms/step - loss: 0.0186 - accuracy: 0.9948 - val_loss: 0.0338 - val_accuracy: 0.9909\n",
      "Epoch 17/20\n",
      "938/938 [==============================] - 107s 114ms/step - loss: 0.0176 - accuracy: 0.9944 - val_loss: 0.0317 - val_accuracy: 0.9924\n",
      "Epoch 18/20\n",
      "938/938 [==============================] - 102s 109ms/step - loss: 0.0162 - accuracy: 0.9947 - val_loss: 0.0399 - val_accuracy: 0.9892\n",
      "Epoch 19/20\n",
      "938/938 [==============================] - 94s 100ms/step - loss: 0.0149 - accuracy: 0.9953 - val_loss: 0.0324 - val_accuracy: 0.9911\n",
      "Epoch 20/20\n",
      "938/938 [==============================] - 103s 110ms/step - loss: 0.0148 - accuracy: 0.9957 - val_loss: 0.0284 - val_accuracy: 0.9922\n"
     ]
    }
   ],
   "source": [
    "history = lstm_model.fit(x_train, y_train, epochs=20, validation_data=(x_test, y_test), batch_size=64)"
   ]
  },
  {
   "cell_type": "code",
   "execution_count": 7,
   "metadata": {},
   "outputs": [
    {
     "data": {
      "text/plain": [
       "{'loss': [0.5369547605514526,\n",
       "  0.13986901938915253,\n",
       "  0.0949932187795639,\n",
       "  0.074190653860569,\n",
       "  0.06446409970521927,\n",
       "  0.05387952923774719,\n",
       "  0.04507514834403992,\n",
       "  0.040916573256254196,\n",
       "  0.03674032911658287,\n",
       "  0.03317611664533615,\n",
       "  0.030829373747110367,\n",
       "  0.026436077430844307,\n",
       "  0.0233184602111578,\n",
       "  0.020970704033970833,\n",
       "  0.02162044681608677,\n",
       "  0.018592504784464836,\n",
       "  0.017645293846726418,\n",
       "  0.016198454424738884,\n",
       "  0.014918552711606026,\n",
       "  0.014814860187470913],\n",
       " 'accuracy': [0.8254666924476624,\n",
       "  0.9577999711036682,\n",
       "  0.9714333415031433,\n",
       "  0.9782333374023438,\n",
       "  0.9809333086013794,\n",
       "  0.9836333394050598,\n",
       "  0.9866999983787537,\n",
       "  0.9875666499137878,\n",
       "  0.9892666935920715,\n",
       "  0.9901666641235352,\n",
       "  0.9907666444778442,\n",
       "  0.9917666912078857,\n",
       "  0.9932500123977661,\n",
       "  0.993399977684021,\n",
       "  0.9939833283424377,\n",
       "  0.9947500228881836,\n",
       "  0.9943833351135254,\n",
       "  0.9947166442871094,\n",
       "  0.9953166842460632,\n",
       "  0.9956833124160767],\n",
       " 'val_loss': [0.1648211032152176,\n",
       "  0.1203177347779274,\n",
       "  0.060624610632658005,\n",
       "  0.07941249758005142,\n",
       "  0.06167024374008179,\n",
       "  0.0393974594771862,\n",
       "  0.03942033275961876,\n",
       "  0.0490785650908947,\n",
       "  0.04526965320110321,\n",
       "  0.048545487225055695,\n",
       "  0.036756109446287155,\n",
       "  0.033117301762104034,\n",
       "  0.051921192556619644,\n",
       "  0.03364865854382515,\n",
       "  0.03165748715400696,\n",
       "  0.03379146382212639,\n",
       "  0.03167639300227165,\n",
       "  0.03988880291581154,\n",
       "  0.0323735736310482,\n",
       "  0.028440270572900772],\n",
       " 'val_accuracy': [0.9470999836921692,\n",
       "  0.9631999731063843,\n",
       "  0.9805999994277954,\n",
       "  0.9758999943733215,\n",
       "  0.9810000061988831,\n",
       "  0.9879000186920166,\n",
       "  0.9873999953269958,\n",
       "  0.9860000014305115,\n",
       "  0.9868999719619751,\n",
       "  0.9842000007629395,\n",
       "  0.9894999861717224,\n",
       "  0.9901999831199646,\n",
       "  0.9857000112533569,\n",
       "  0.9904000163078308,\n",
       "  0.9901999831199646,\n",
       "  0.9908999800682068,\n",
       "  0.9923999905586243,\n",
       "  0.9891999959945679,\n",
       "  0.991100013256073,\n",
       "  0.9922000169754028]}"
      ]
     },
     "execution_count": 7,
     "metadata": {},
     "output_type": "execute_result"
    }
   ],
   "source": [
    "history.history"
   ]
  },
  {
   "cell_type": "code",
   "execution_count": 8,
   "metadata": {},
   "outputs": [
    {
     "name": "stdout",
     "output_type": "stream",
     "text": [
      "WARNING:tensorflow:From <ipython-input-8-f2a97adc663f>:2: Sequential.predict_classes (from tensorflow.python.keras.engine.sequential) is deprecated and will be removed after 2021-01-01.\n",
      "Instructions for updating:\n",
      "Please use instead:* `np.argmax(model.predict(x), axis=-1)`,   if your model does multi-class classification   (e.g. if it uses a `softmax` last-layer activation).* `(model.predict(x) > 0.5).astype(\"int32\")`,   if your model does binary classification   (e.g. if it uses a `sigmoid` last-layer activation).\n"
     ]
    }
   ],
   "source": [
    "results = lstm_model.predict(x_test)\n",
    "results_classes = lstm_model.predict_classes(x_test)\n",
    "# results shape depending on (samples of testing x, number of classes)"
   ]
  },
  {
   "cell_type": "markdown",
   "metadata": {},
   "source": [
    "# Since predict classes will be removed after 2021:\n",
    "WARNING:tensorflow:From <ipython-input-16-9a4f2dc2d328>:2: Sequential.predict_classes (from tensorflow.python.keras.engine.sequential) is deprecated and will be removed after 2021-01-01.\n",
    "Instructions for updating:\n",
    "Please use instead:* `np.argmax(model.predict(x), axis=-1)`,   if your model does multi-class classification   (e.g. if it uses a `softmax` last-layer activation).* `(model.predict(x) > 0.5).astype(\"int32\")`,   if your model does binary classification   (e.g. if it uses a `sigmoid` last-layer activation)."
   ]
  },
  {
   "cell_type": "code",
   "execution_count": 9,
   "metadata": {},
   "outputs": [
    {
     "name": "stdout",
     "output_type": "stream",
     "text": [
      "(10000, 10), (10000,)\n"
     ]
    }
   ],
   "source": [
    "print(f\"{results.shape}, {results_classes.shape}\")"
   ]
  },
  {
   "cell_type": "code",
   "execution_count": 10,
   "metadata": {},
   "outputs": [
    {
     "data": {
      "text/plain": [
       "array([[7.1420976e-09, 6.3108573e-08, 1.4257010e-08, ..., 9.9998474e-01,\n",
       "        3.7192111e-10, 7.5199341e-07],\n",
       "       [1.9023133e-14, 1.8150065e-10, 1.0000000e+00, ..., 1.4564430e-12,\n",
       "        2.6232543e-13, 1.6609481e-16],\n",
       "       [3.0039109e-14, 1.0000000e+00, 3.9267807e-09, ..., 9.1094915e-10,\n",
       "        1.0884753e-11, 2.0368254e-13],\n",
       "       ...,\n",
       "       [3.0627531e-10, 1.5560879e-10, 7.0619080e-11, ..., 1.8787816e-09,\n",
       "        6.9912687e-10, 2.3174834e-08],\n",
       "       [4.4169958e-12, 1.4113454e-11, 7.0562859e-14, ..., 2.0680168e-13,\n",
       "        1.7466978e-07, 7.8625834e-10],\n",
       "       [6.2749268e-07, 4.2809015e-10, 7.1760667e-07, ..., 6.5166222e-14,\n",
       "        6.5858536e-08, 6.6693880e-11]], dtype=float32)"
      ]
     },
     "execution_count": 10,
     "metadata": {},
     "output_type": "execute_result"
    }
   ],
   "source": [
    "results"
   ]
  },
  {
   "cell_type": "code",
   "execution_count": 11,
   "metadata": {},
   "outputs": [
    {
     "data": {
      "text/plain": [
       "array([7, 2, 1, ..., 4, 5, 6], dtype=int64)"
      ]
     },
     "execution_count": 11,
     "metadata": {},
     "output_type": "execute_result"
    }
   ],
   "source": [
    "results_classes"
   ]
  },
  {
   "cell_type": "code",
   "execution_count": 12,
   "metadata": {},
   "outputs": [
    {
     "data": {
      "text/plain": [
       "array([7, 2, 1, ..., 4, 5, 6], dtype=int64)"
      ]
     },
     "execution_count": 12,
     "metadata": {},
     "output_type": "execute_result"
    }
   ],
   "source": [
    "# Get max value across the last axis (i.e. the 10 columns since (samples, 10), 10 is last axis)\n",
    "np.argmax(lstm_model.predict(x_test), axis=-1)"
   ]
  },
  {
   "cell_type": "markdown",
   "metadata": {},
   "source": [
    "# Compare set of numbers that were wrong\n",
    "## Can also use PIL or plt to show images that were wrong"
   ]
  },
  {
   "cell_type": "code",
   "execution_count": 13,
   "metadata": {},
   "outputs": [
    {
     "name": "stdout",
     "output_type": "stream",
     "text": [
      "[7 4 4 3 9 2 5 2 3 2 4 1 7 2 3 7 5 7 4 5 3 0 9 1 4 0 4 3 1 4 4 5 2 1 5 7 5\n",
      " 8 1 0 8 2 4 1 4 1 7 4 1 1 2 0 3 5 4 0 4 8 4 5 2 8 3 1 7 3 5 2 2 2 8 7 3 5\n",
      " 6 5 9 5]\n",
      "[2 7 9 5 4 8 6 7 9 7 9 7 5 8 2 3 9 0 9 6 5 2 4 6 9 2 2 5 6 9 7 6 3 5 9 9 3\n",
      " 0 9 6 6 7 9 7 9 7 9 9 7 3 8 6 2 3 9 6 9 0 6 1 7 3 6 7 0 8 8 7 7 7 9 2 6 6\n",
      " 5 6 4 6]\n",
      "9922 out of 10000 test images predicted correctly\n"
     ]
    }
   ],
   "source": [
    "boolean_accurate_results = results_classes == y_test\n",
    "print(results_classes[~boolean_accurate_results])\n",
    "print(y_test[~boolean_accurate_results])\n",
    "print(f\"{boolean_accurate_results.sum()} out of {results_classes.shape[0]} test images predicted correctly\")\n",
    "# 120 digits read wrongly are shown below"
   ]
  },
  {
   "cell_type": "markdown",
   "metadata": {},
   "source": [
    "# Val loss is lower than train loss and val_accuracy higher than train accuracy\n",
    "1. This occurs because loss is taken to be average across an epoch but val loss is taken only at the end of each epoch\n",
    "2. If val loss seem to be lower than loss and/or val accuracy higher than accuracy, means model still has potential to learn\n",
    "3. i.e. Accuracy has yet to reach it's stabilizing region"
   ]
  },
  {
   "cell_type": "code",
   "execution_count": 14,
   "metadata": {},
   "outputs": [
    {
     "data": {
      "image/png": "[encoded data removed]",
      "text/plain": [
       "<Figure size 432x288 with 1 Axes>"
      ]
     },
     "metadata": {
      "needs_background": "light"
     },
     "output_type": "display_data"
    }
   ],
   "source": [
    "plt.plot(history.history['loss'])\n",
    "plt.plot(history.history['val_loss'], color='orange')\n",
    "plt.show()"
   ]
  },
  {
   "cell_type": "code",
   "execution_count": 15,
   "metadata": {},
   "outputs": [
    {
     "data": {
      "image/png": "[encoded data removed]",
      "text/plain": [
       "<Figure size 432x288 with 1 Axes>"
      ]
     },
     "metadata": {
      "needs_background": "light"
     },
     "output_type": "display_data"
    }
   ],
   "source": [
    "plt.plot(history.history['accuracy'])\n",
    "plt.plot(history.history['val_accuracy'], color='orange')\n",
    "plt.show()"
   ]
  },
  {
   "cell_type": "code",
   "execution_count": 16,
   "metadata": {},
   "outputs": [
    {
     "name": "stdout",
     "output_type": "stream",
     "text": [
      "WARNING:tensorflow:From C:\\Users\\jx\\AppData\\Roaming\\Python\\Python37\\site-packages\\tensorflow\\python\\training\\tracking\\tracking.py:111: Model.state_updates (from tensorflow.python.keras.engine.training) is deprecated and will be removed in a future version.\n",
      "Instructions for updating:\n",
      "This property should not be used in TensorFlow 2.0, as updates are applied automatically.\n",
      "WARNING:tensorflow:From C:\\Users\\jx\\AppData\\Roaming\\Python\\Python37\\site-packages\\tensorflow\\python\\training\\tracking\\tracking.py:111: Layer.updates (from tensorflow.python.keras.engine.base_layer) is deprecated and will be removed in a future version.\n",
      "Instructions for updating:\n",
      "This property should not be used in TensorFlow 2.0, as updates are applied automatically.\n",
      "INFO:tensorflow:Assets written to: lstm_mnist_model.tf\\assets\n"
     ]
    }
   ],
   "source": [
    "lstm_model.save('lstm_mnist_model.tf')"
   ]
  },
  {
   "cell_type": "code",
   "execution_count": null,
   "metadata": {},
   "outputs": [],
   "source": []
  }
 ],
 "metadata": {
  "kernelspec": {
   "display_name": "Python [conda env:keras_training4]",
   "language": "python",
   "name": "conda-env-keras_training4-py"
  },
  "language_info": {
   "codemirror_mode": {
    "name": "ipython",
    "version": 3
   },
   "file_extension": ".py",
   "mimetype": "text/x-python",
   "name": "python",
   "nbconvert_exporter": "python",
   "pygments_lexer": "ipython3",
   "version": "3.7.9"
  }
 },
 "nbformat": 4,
 "nbformat_minor": 4
}
